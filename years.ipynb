{
 "cells": [
  {
   "cell_type": "code",
   "execution_count": 2,
   "metadata": {
    "collapsed": true
   },
   "outputs": [],
   "source": [
    "import numpy as np\n",
    "import pandas as pd"
   ]
  },
  {
   "cell_type": "code",
   "execution_count": 3,
   "metadata": {
    "collapsed": true
   },
   "outputs": [],
   "source": [
    "homicides = pd.read_csv('database.csv', sep=',', error_bad_lines=False, index_col=False, dtype='unicode', usecols=['Year','Crime Solved'])"
   ]
  },
  {
   "cell_type": "code",
   "execution_count": 4,
   "metadata": {
    "collapsed": true
   },
   "outputs": [],
   "source": [
    "import matplotlib.pyplot as plt \n",
    "%matplotlib inline "
   ]
  },
  {
   "cell_type": "code",
   "execution_count": 5,
   "metadata": {
    "collapsed": false
   },
   "outputs": [
    {
     "data": {
      "text/plain": [
       "(638454, 2)"
      ]
     },
     "execution_count": 5,
     "metadata": {},
     "output_type": "execute_result"
    }
   ],
   "source": [
    "homicides.shape"
   ]
  },
  {
   "cell_type": "code",
   "execution_count": 6,
   "metadata": {
    "collapsed": false
   },
   "outputs": [],
   "source": [
    "year_count = homicides['Year'].value_counts().sort_index()"
   ]
  },
  {
   "cell_type": "code",
   "execution_count": 7,
   "metadata": {
    "collapsed": false
   },
   "outputs": [
    {
     "data": {
      "text/plain": [
       "1980    23092\n",
       "1981    21208\n",
       "1982    20544\n",
       "1983    19653\n",
       "1984    18093\n",
       "1985    18386\n",
       "1986    20125\n",
       "1987    18783\n",
       "1988    18779\n",
       "1989    19868\n",
       "1990    21246\n",
       "1991    22657\n",
       "1992    23793\n",
       "1993    24335\n",
       "1994    23246\n",
       "1995    21179\n",
       "1996    18969\n",
       "1997    17794\n",
       "1998    16061\n",
       "1999    14621\n",
       "2000    14671\n",
       "2001    15803\n",
       "2002    16268\n",
       "2003    16512\n",
       "2004    16233\n",
       "2005    16836\n",
       "2006    17275\n",
       "2007    17303\n",
       "2008    15595\n",
       "2009    15840\n",
       "2010    15121\n",
       "2011    14756\n",
       "2012    15033\n",
       "2013    14445\n",
       "2014    14331\n",
       "Name: Year, dtype: int64"
      ]
     },
     "execution_count": 7,
     "metadata": {},
     "output_type": "execute_result"
    }
   ],
   "source": [
    "year_count"
   ]
  },
  {
   "cell_type": "code",
   "execution_count": 8,
   "metadata": {
    "collapsed": false
   },
   "outputs": [
    {
     "data": {
      "image/png": "[encoded data removed]",
      "text/plain": [
       "<matplotlib.figure.Figure at 0x110834cc0>"
      ]
     },
     "metadata": {},
     "output_type": "display_data"
    }
   ],
   "source": [
    "ax = year_count.plot.bar(figsize=(20,10), title=\"Homicide Count Per Year, 1980 - 2014\", colormap='Set1')\n",
    "ax.set_xlabel(\"Year\", fontsize=20)\n",
    "ax.set_ylabel(\"Homicides\", fontsize=20)\n",
    "ax.title.set_size(fontsize=24)\n",
    "ax.tick_params(axis='both', which='major', labelsize=14)"
   ]
  },
  {
   "cell_type": "code",
   "execution_count": 9,
   "metadata": {
    "collapsed": false
   },
   "outputs": [
    {
     "data": {
      "text/plain": [
       "dict_keys(['1980', '1981', '1982', '1983', '1984', '1985', '1986', '1987', '1988', '1989', '1990', '1991', '1992', '1993', '1994', '1995', '1996', '1997', '1998', '1999', '2000', '2001', '2002', '2003', '2004', '2005', '2006', '2007', '2008', '2009', '2010', '2011', '2012', '2013', '2014'])"
      ]
     },
     "execution_count": 9,
     "metadata": {},
     "output_type": "execute_result"
    }
   ],
   "source": [
    "homicides.groupby(['Year']).groups.keys()"
   ]
  },
  {
   "cell_type": "code",
   "execution_count": 10,
   "metadata": {
    "collapsed": false
   },
   "outputs": [
    {
     "data": {
      "text/plain": [
       "Year  Crime Solved\n",
       "1980  Yes             16729\n",
       "      No               6363\n",
       "1981  Yes             15788\n",
       "      No               5420\n",
       "1982  Yes             15060\n",
       "      No               5484\n",
       "1983  Yes             14515\n",
       "      No               5138\n",
       "1984  Yes             13245\n",
       "      No               4848\n",
       "1985  Yes             13623\n",
       "      No               4763\n",
       "1986  Yes             14820\n",
       "      No               5305\n",
       "1987  Yes             13473\n",
       "      No               5310\n",
       "1988  Yes             13391\n",
       "      No               5388\n",
       "1989  Yes             14179\n",
       "      No               5689\n",
       "1990  Yes             15001\n",
       "      No               6245\n",
       "1991  Yes             15321\n",
       "      No               7336\n",
       "1992  Yes             15881\n",
       "      No               7912\n",
       "1993  Yes             16435\n",
       "      No               7900\n",
       "1994  Yes             15881\n",
       "      No               7365\n",
       "                      ...  \n",
       "2000  Yes             10207\n",
       "      No               4464\n",
       "2001  Yes             11046\n",
       "      No               4757\n",
       "2002  Yes             11284\n",
       "      No               4984\n",
       "2003  Yes             11232\n",
       "      No               5280\n",
       "2004  Yes             11155\n",
       "      No               5078\n",
       "2005  Yes             11607\n",
       "      No               5229\n",
       "2006  Yes             11926\n",
       "      No               5349\n",
       "2007  Yes             11789\n",
       "      No               5514\n",
       "2008  Yes             10538\n",
       "      No               5057\n",
       "2009  Yes             11215\n",
       "      No               4625\n",
       "2010  Yes             10706\n",
       "      No               4415\n",
       "2011  Yes             10443\n",
       "      No               4313\n",
       "2012  Yes             10575\n",
       "      No               4458\n",
       "2013  Yes             10055\n",
       "      No               4390\n",
       "2014  Yes              9950\n",
       "      No               4381\n",
       "Name: Crime Solved, Length: 70, dtype: int64"
      ]
     },
     "execution_count": 10,
     "metadata": {},
     "output_type": "execute_result"
    }
   ],
   "source": [
    "crimes_solved = homicides.groupby(['Year'])['Crime Solved'].value_counts()\n",
    "crimes_solved"
   ]
  },
  {
   "cell_type": "code",
   "execution_count": 11,
   "metadata": {
    "collapsed": true
   },
   "outputs": [],
   "source": [
    "grouped_crimes_solved = crimes_solved.unstack()"
   ]
  },
  {
   "cell_type": "code",
   "execution_count": 12,
   "metadata": {
    "collapsed": false
   },
   "outputs": [
    {
     "data": {
      "text/html": [
       "<div>\n",
       "<style scoped>\n",
       "    .dataframe tbody tr th:only-of-type {\n",
       "        vertical-align: middle;\n",
       "    }\n",
       "\n",
       "    .dataframe tbody tr th {\n",
       "        vertical-align: top;\n",
       "    }\n",
       "\n",
       "    .dataframe thead th {\n",
       "        text-align: right;\n",
       "    }\n",
       "</style>\n",
       "<table border=\"1\" class=\"dataframe\">\n",
       "  <thead>\n",
       "    <tr style=\"text-align: right;\">\n",
       "      <th>Crime Solved</th>\n",
       "      <th>No</th>\n",
       "      <th>Yes</th>\n",
       "    </tr>\n",
       "    <tr>\n",
       "      <th>Year</th>\n",
       "      <th></th>\n",
       "      <th></th>\n",
       "    </tr>\n",
       "  </thead>\n",
       "  <tbody>\n",
       "    <tr>\n",
       "      <th>1980</th>\n",
       "      <td>6363</td>\n",
       "      <td>16729</td>\n",
       "    </tr>\n",
       "    <tr>\n",
       "      <th>1981</th>\n",
       "      <td>5420</td>\n",
       "      <td>15788</td>\n",
       "    </tr>\n",
       "    <tr>\n",
       "      <th>1982</th>\n",
       "      <td>5484</td>\n",
       "      <td>15060</td>\n",
       "    </tr>\n",
       "    <tr>\n",
       "      <th>1983</th>\n",
       "      <td>5138</td>\n",
       "      <td>14515</td>\n",
       "    </tr>\n",
       "    <tr>\n",
       "      <th>1984</th>\n",
       "      <td>4848</td>\n",
       "      <td>13245</td>\n",
       "    </tr>\n",
       "    <tr>\n",
       "      <th>1985</th>\n",
       "      <td>4763</td>\n",
       "      <td>13623</td>\n",
       "    </tr>\n",
       "    <tr>\n",
       "      <th>1986</th>\n",
       "      <td>5305</td>\n",
       "      <td>14820</td>\n",
       "    </tr>\n",
       "    <tr>\n",
       "      <th>1987</th>\n",
       "      <td>5310</td>\n",
       "      <td>13473</td>\n",
       "    </tr>\n",
       "    <tr>\n",
       "      <th>1988</th>\n",
       "      <td>5388</td>\n",
       "      <td>13391</td>\n",
       "    </tr>\n",
       "    <tr>\n",
       "      <th>1989</th>\n",
       "      <td>5689</td>\n",
       "      <td>14179</td>\n",
       "    </tr>\n",
       "    <tr>\n",
       "      <th>1990</th>\n",
       "      <td>6245</td>\n",
       "      <td>15001</td>\n",
       "    </tr>\n",
       "    <tr>\n",
       "      <th>1991</th>\n",
       "      <td>7336</td>\n",
       "      <td>15321</td>\n",
       "    </tr>\n",
       "    <tr>\n",
       "      <th>1992</th>\n",
       "      <td>7912</td>\n",
       "      <td>15881</td>\n",
       "    </tr>\n",
       "    <tr>\n",
       "      <th>1993</th>\n",
       "      <td>7900</td>\n",
       "      <td>16435</td>\n",
       "    </tr>\n",
       "    <tr>\n",
       "      <th>1994</th>\n",
       "      <td>7365</td>\n",
       "      <td>15881</td>\n",
       "    </tr>\n",
       "    <tr>\n",
       "      <th>1995</th>\n",
       "      <td>6809</td>\n",
       "      <td>14370</td>\n",
       "    </tr>\n",
       "    <tr>\n",
       "      <th>1996</th>\n",
       "      <td>5881</td>\n",
       "      <td>13088</td>\n",
       "    </tr>\n",
       "    <tr>\n",
       "      <th>1997</th>\n",
       "      <td>5667</td>\n",
       "      <td>12127</td>\n",
       "    </tr>\n",
       "    <tr>\n",
       "      <th>1998</th>\n",
       "      <td>4770</td>\n",
       "      <td>11291</td>\n",
       "    </tr>\n",
       "    <tr>\n",
       "      <th>1999</th>\n",
       "      <td>4395</td>\n",
       "      <td>10226</td>\n",
       "    </tr>\n",
       "    <tr>\n",
       "      <th>2000</th>\n",
       "      <td>4464</td>\n",
       "      <td>10207</td>\n",
       "    </tr>\n",
       "    <tr>\n",
       "      <th>2001</th>\n",
       "      <td>4757</td>\n",
       "      <td>11046</td>\n",
       "    </tr>\n",
       "    <tr>\n",
       "      <th>2002</th>\n",
       "      <td>4984</td>\n",
       "      <td>11284</td>\n",
       "    </tr>\n",
       "    <tr>\n",
       "      <th>2003</th>\n",
       "      <td>5280</td>\n",
       "      <td>11232</td>\n",
       "    </tr>\n",
       "    <tr>\n",
       "      <th>2004</th>\n",
       "      <td>5078</td>\n",
       "      <td>11155</td>\n",
       "    </tr>\n",
       "    <tr>\n",
       "      <th>2005</th>\n",
       "      <td>5229</td>\n",
       "      <td>11607</td>\n",
       "    </tr>\n",
       "    <tr>\n",
       "      <th>2006</th>\n",
       "      <td>5349</td>\n",
       "      <td>11926</td>\n",
       "    </tr>\n",
       "    <tr>\n",
       "      <th>2007</th>\n",
       "      <td>5514</td>\n",
       "      <td>11789</td>\n",
       "    </tr>\n",
       "    <tr>\n",
       "      <th>2008</th>\n",
       "      <td>5057</td>\n",
       "      <td>10538</td>\n",
       "    </tr>\n",
       "    <tr>\n",
       "      <th>2009</th>\n",
       "      <td>4625</td>\n",
       "      <td>11215</td>\n",
       "    </tr>\n",
       "    <tr>\n",
       "      <th>2010</th>\n",
       "      <td>4415</td>\n",
       "      <td>10706</td>\n",
       "    </tr>\n",
       "    <tr>\n",
       "      <th>2011</th>\n",
       "      <td>4313</td>\n",
       "      <td>10443</td>\n",
       "    </tr>\n",
       "    <tr>\n",
       "      <th>2012</th>\n",
       "      <td>4458</td>\n",
       "      <td>10575</td>\n",
       "    </tr>\n",
       "    <tr>\n",
       "      <th>2013</th>\n",
       "      <td>4390</td>\n",
       "      <td>10055</td>\n",
       "    </tr>\n",
       "    <tr>\n",
       "      <th>2014</th>\n",
       "      <td>4381</td>\n",
       "      <td>9950</td>\n",
       "    </tr>\n",
       "  </tbody>\n",
       "</table>\n",
       "</div>"
      ],
      "text/plain": [
       "Crime Solved    No    Yes\n",
       "Year                     \n",
       "1980          6363  16729\n",
       "1981          5420  15788\n",
       "1982          5484  15060\n",
       "1983          5138  14515\n",
       "1984          4848  13245\n",
       "1985          4763  13623\n",
       "1986          5305  14820\n",
       "1987          5310  13473\n",
       "1988          5388  13391\n",
       "1989          5689  14179\n",
       "1990          6245  15001\n",
       "1991          7336  15321\n",
       "1992          7912  15881\n",
       "1993          7900  16435\n",
       "1994          7365  15881\n",
       "1995          6809  14370\n",
       "1996          5881  13088\n",
       "1997          5667  12127\n",
       "1998          4770  11291\n",
       "1999          4395  10226\n",
       "2000          4464  10207\n",
       "2001          4757  11046\n",
       "2002          4984  11284\n",
       "2003          5280  11232\n",
       "2004          5078  11155\n",
       "2005          5229  11607\n",
       "2006          5349  11926\n",
       "2007          5514  11789\n",
       "2008          5057  10538\n",
       "2009          4625  11215\n",
       "2010          4415  10706\n",
       "2011          4313  10443\n",
       "2012          4458  10575\n",
       "2013          4390  10055\n",
       "2014          4381   9950"
      ]
     },
     "execution_count": 12,
     "metadata": {},
     "output_type": "execute_result"
    }
   ],
   "source": [
    "grouped_crimes_solved"
   ]
  },
  {
   "cell_type": "code",
   "execution_count": 13,
   "metadata": {
    "collapsed": false
   },
   "outputs": [
    {
     "data": {
      "text/plain": [
       "<matplotlib.axes._subplots.AxesSubplot at 0x1123398d0>"
      ]
     },
     "execution_count": 13,
     "metadata": {},
     "output_type": "execute_result"
    },
    {
     "data": {
      "image/png": "[encoded data removed]",
      "text/plain": [
       "<matplotlib.figure.Figure at 0x111386ba8>"
      ]
     },
     "metadata": {},
     "output_type": "display_data"
    }
   ],
   "source": [
    "grouped_crimes_solved.plot(kind='bar', stacked=True, figsize=[16,6], colormap='Set1')"
   ]
  },
  {
   "cell_type": "code",
   "execution_count": 14,
   "metadata": {
    "collapsed": false
   },
   "outputs": [
    {
     "data": {
      "text/plain": [
       "Year\n",
       "1980    16729\n",
       "1981    15788\n",
       "1982    15060\n",
       "1983    14515\n",
       "1984    13245\n",
       "1985    13623\n",
       "1986    14820\n",
       "1987    13473\n",
       "1988    13391\n",
       "1989    14179\n",
       "1990    15001\n",
       "1991    15321\n",
       "1992    15881\n",
       "1993    16435\n",
       "1994    15881\n",
       "1995    14370\n",
       "1996    13088\n",
       "1997    12127\n",
       "1998    11291\n",
       "1999    10226\n",
       "2000    10207\n",
       "2001    11046\n",
       "2002    11284\n",
       "2003    11232\n",
       "2004    11155\n",
       "2005    11607\n",
       "2006    11926\n",
       "2007    11789\n",
       "2008    10538\n",
       "2009    11215\n",
       "2010    10706\n",
       "2011    10443\n",
       "2012    10575\n",
       "2013    10055\n",
       "2014     9950\n",
       "Name: Yes, dtype: int64"
      ]
     },
     "execution_count": 14,
     "metadata": {},
     "output_type": "execute_result"
    }
   ],
   "source": []
  },
  {
   "cell_type": "code",
   "execution_count": null,
   "metadata": {
    "collapsed": true
   },
   "outputs": [],
   "source": []
  }
 ],
 "metadata": {
  "kernelspec": {
   "display_name": "Python 3",
   "language": "python",
   "name": "python3"
  },
  "language_info": {
   "codemirror_mode": {
    "name": "ipython",
    "version": 3
   },
   "file_extension": ".py",
   "mimetype": "text/x-python",
   "name": "python",
   "nbconvert_exporter": "python",
   "pygments_lexer": "ipython3",
   "version": "3.6.1"
  }
 },
 "nbformat": 4,
 "nbformat_minor": 2
}
