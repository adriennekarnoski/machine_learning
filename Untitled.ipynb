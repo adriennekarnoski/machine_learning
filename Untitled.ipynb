{
 "cells": [
  {
   "cell_type": "code",
   "execution_count": 3,
   "metadata": {
    "collapsed": true
   },
   "outputs": [],
   "source": [
    "import numpy as np\n",
    "import pandas as pd\n",
    "import matplotlib.pyplot as plt \n",
    "%matplotlib inline "
   ]
  },
  {
   "cell_type": "code",
   "execution_count": 4,
   "metadata": {
    "collapsed": true
   },
   "outputs": [],
   "source": [
    "homicides = pd.read_csv('database.csv', sep=',', error_bad_lines=False, index_col=False, dtype='unicode', usecols=['Victim Sex','Victim Age', 'Victim Race', 'Perpetrator Sex', 'Perpetrator Age', 'Perpetrator Race', 'Relationship'])"
   ]
  },
  {
   "cell_type": "code",
   "execution_count": 5,
   "metadata": {
    "collapsed": false
   },
   "outputs": [
    {
     "data": {
      "text/plain": [
       "(638454, 7)"
      ]
     },
     "execution_count": 5,
     "metadata": {},
     "output_type": "execute_result"
    }
   ],
   "source": [
    "homicides.shape"
   ]
  },
  {
   "cell_type": "code",
   "execution_count": 122,
   "metadata": {
    "collapsed": true
   },
   "outputs": [],
   "source": [
    "original_headers = list(homicides)\n",
    "headers = []\n",
    "\n",
    "for item in original_headers:\n",
    "    if ' ' in item:\n",
    "        headers.append(item.replace(' ', '_').lower())\n",
    "    else:\n",
    "        headers.append(item.lower())"
   ]
  },
  {
   "cell_type": "code",
   "execution_count": 123,
   "metadata": {
    "collapsed": false
   },
   "outputs": [],
   "source": [
    "for i in range(len(headers)):\n",
    "    vars()[headers[i]] = homicides[original_headers[i]].value_counts()"
   ]
  },
  {
   "cell_type": "code",
   "execution_count": 42,
   "metadata": {
    "collapsed": false
   },
   "outputs": [
    {
     "data": {
      "text/plain": [
       "Male       494125\n",
       "Female     143345\n",
       "Unknown       984\n",
       "Name: Victim Sex, dtype: int64"
      ]
     },
     "execution_count": 42,
     "metadata": {},
     "output_type": "execute_result"
    }
   ],
   "source": [
    "victim_sex"
   ]
  },
  {
   "cell_type": "code",
   "execution_count": 21,
   "metadata": {
    "collapsed": false
   },
   "outputs": [],
   "source": [
    "perpetrator_sex.index[0]\n",
    "data = [{'Male': perpetrator_sex.values[0], 'Female': perpetrator_sex.values[2], 'Unknown': perpetrator_sex.values[1]},\n",
    "        {'Male': victim_sex.values[0], 'Female': victim_sex.values[1], 'Unknown': victim_sex.values[2]}]"
   ]
  },
  {
   "cell_type": "code",
   "execution_count": 22,
   "metadata": {
    "collapsed": false
   },
   "outputs": [],
   "source": [
    "sex_count = pd.DataFrame(data, index=['Prepetrator', 'Victim'])"
   ]
  },
  {
   "cell_type": "code",
   "execution_count": 153,
   "metadata": {
    "collapsed": false
   },
   "outputs": [
    {
     "data": {
      "image/png": "[encoded data removed]",
      "text/plain": [
       "<matplotlib.figure.Figure at 0x11b722b38>"
      ]
     },
     "metadata": {},
     "output_type": "display_data"
    }
   ],
   "source": [
    "colors = ['#d96459', '#f2ae72', '#96ceb4']\n",
    "ax = sex_count.plot.barh(figsize=[16,6], title=\"Sex\", color=colors, stacked=True)\n",
    "ax.set_xlabel(\"Number of People\", fontsize=20)\n",
    "ax.title.set_size(fontsize=24)\n",
    "ax.tick_params(axis='both', which='major', labelsize=14)"
   ]
  },
  {
   "cell_type": "code",
   "execution_count": 126,
   "metadata": {
    "collapsed": false
   },
   "outputs": [
    {
     "data": {
      "text/plain": [
       "White                            317422\n",
       "Black                            299899\n",
       "Asian/Pacific Islander             9890\n",
       "Unknown                            6676\n",
       "Native American/Alaska Native      4567\n",
       "Name: Victim Race, dtype: int64"
      ]
     },
     "execution_count": 126,
     "metadata": {},
     "output_type": "execute_result"
    }
   ],
   "source": [
    "victim_race"
   ]
  },
  {
   "cell_type": "code",
   "execution_count": 130,
   "metadata": {
    "collapsed": false
   },
   "outputs": [
    {
     "data": {
      "text/plain": [
       "White                            218243\n",
       "Black                            214516\n",
       "Unknown                          196047\n",
       "Asian/Pacific Islander             6046\n",
       "Native American/Alaska Native      3602\n",
       "Name: Perpetrator Race, dtype: int64"
      ]
     },
     "execution_count": 130,
     "metadata": {},
     "output_type": "execute_result"
    }
   ],
   "source": [
    "perpetrator_race"
   ]
  },
  {
   "cell_type": "code",
   "execution_count": 145,
   "metadata": {
    "collapsed": false
   },
   "outputs": [],
   "source": [
    "data = [{'White': perpetrator_race.values[0], 'Black': perpetrator_race.values[1], 'Asian/Pacific Islander': perpetrator_race.values[3], 'Unknown': perpetrator_race.values[2], 'Native American/Alaska Native': perpetrator_race.values[4]},\n",
    "        {'White': victim_race.values[0], 'Black': victim_sex.values[1], 'Asian/Pacific Islander': victim_race.values[2], 'Unknown': victim_race.values[3], 'Native American/Alaska Native': victim_race.values[4]}]"
   ]
  },
  {
   "cell_type": "code",
   "execution_count": 146,
   "metadata": {
    "collapsed": false
   },
   "outputs": [],
   "source": [
    "race_count = pd.DataFrame(data, index=['Prepetrator', 'Victim'])"
   ]
  },
  {
   "cell_type": "code",
   "execution_count": 152,
   "metadata": {
    "collapsed": false
   },
   "outputs": [
    {
     "data": {
      "image/png": "[encoded data removed]",
      "text/plain": [
       "<matplotlib.figure.Figure at 0x114bcdef0>"
      ]
     },
     "metadata": {},
     "output_type": "display_data"
    }
   ],
   "source": [
    "colors = ['#454140', '#d96459', '#f2ae72', '#ffeead', '#96ceb4']\n",
    "ax = race_count.plot.barh(figsize=[16,6], title=\"Race\", color=colors, stacked=True)\n",
    "ax.set_xlabel(\"Number of People\", fontsize=20)\n",
    "ax.title.set_size(fontsize=24)\n",
    "ax.tick_params(axis='both', which='major', labelsize=14)"
   ]
  },
  {
   "cell_type": "code",
   "execution_count": 187,
   "metadata": {
    "collapsed": false
   },
   "outputs": [],
   "source": [
    "age_list = list(map(int, list(victim_age.index)))"
   ]
  },
  {
   "cell_type": "code",
   "execution_count": 189,
   "metadata": {
    "collapsed": false
   },
   "outputs": [
    {
     "data": {
      "text/plain": [
       "101"
      ]
     },
     "execution_count": 189,
     "metadata": {},
     "output_type": "execute_result"
    }
   ],
   "source": [
    "len(age_list)"
   ]
  },
  {
   "cell_type": "code",
   "execution_count": 193,
   "metadata": {
    "collapsed": false
   },
   "outputs": [],
   "source": [
    "age_d = {'0 - 14': 0, '15 - 29': 0, '30 - 44': 0, '45 - 59': 0, '60 - 74': 0, '75 - 89': 0, '90 - 105': 0}"
   ]
  },
  {
   "cell_type": "code",
   "execution_count": 194,
   "metadata": {
    "collapsed": false
   },
   "outputs": [],
   "source": [
    "age_list = list(map(int, list(victim_age.index)))\n",
    "count_list = list(victim_age.values)\n",
    "\n",
    "for i in range(len(victim_age)):\n",
    "    if age_list[i] < 15:\n",
    "        age_d['0 - 14'] += count_list[i]\n",
    "    elif age_list[i] >= 15 and age_list[i] < 30:\n",
    "        age_d['15 - 29'] += count_list[i]\n",
    "    elif age_list[i] >= 30 and age_list[i] < 45:\n",
    "        age_d['30 - 44'] += count_list[i]\n",
    "    elif age_list[i] >= 45 and age_list[i] < 60:\n",
    "        age_d['45 - 59'] += count_list[i]\n",
    "    elif age_list[i] >= 60 and age_list[i] < 75:\n",
    "        age_d['60 - 74'] += count_list[i]\n",
    "    elif age_list[i] >= 75 and age_list[i] < 90:\n",
    "        age_d['75 - 89'] += count_list[i]\n",
    "    elif age_list[i] >= 90 and age_list[i] < 106:\n",
    "        age_d['90 - 105'] += count_list[i]"
   ]
  },
  {
   "cell_type": "code",
   "execution_count": 195,
   "metadata": {
    "collapsed": false
   },
   "outputs": [
    {
     "data": {
      "text/plain": [
       "{'0 - 14': 34848,\n",
       " '15 - 29': 281998,\n",
       " '30 - 44': 187196,\n",
       " '45 - 59': 79323,\n",
       " '60 - 74': 31117,\n",
       " '75 - 89': 12624,\n",
       " '90 - 105': 10374}"
      ]
     },
     "execution_count": 195,
     "metadata": {},
     "output_type": "execute_result"
    }
   ],
   "source": [
    "age_d"
   ]
  },
  {
   "cell_type": "code",
   "execution_count": 382,
   "metadata": {
    "collapsed": false
   },
   "outputs": [],
   "source": [
    "def create_dictionary(data):\n",
    "    age_d = {'Unknown': 0, '0 - 14': 0, '15 - 29': 0, '30 - 44': 0, '45 - 59': 0, '60 - 74': 0, '75 - 89': 0, '90 - 105': 0}\n",
    "    if ' ' in list(data.index):\n",
    "        filter_out = [' ', '0']\n",
    "        index_list = [x.replace(x, '-1') if x in filter_out else x for x in list(data.index)]\n",
    "    else:\n",
    "        index_list = list(data.index)\n",
    "    age_list = list(map(int, index_list))\n",
    "    count_list = list(data.values)\n",
    "    for i in range(len(data)):\n",
    "        if age_list[i] == -1:\n",
    "            age_d['Unknown'] += count_list[i]\n",
    "        if age_list[i] < 15:\n",
    "            age_d['0 - 14'] += count_list[i]\n",
    "        elif age_list[i] >= 15 and age_list[i] < 30:\n",
    "            age_d['15 - 29'] += count_list[i]\n",
    "        elif age_list[i] >= 30 and age_list[i] < 45:\n",
    "            age_d['30 - 44'] += count_list[i]\n",
    "        elif age_list[i] >= 45 and age_list[i] < 60:\n",
    "            age_d['45 - 59'] += count_list[i]\n",
    "        elif age_list[i] >= 60 and age_list[i] < 75:\n",
    "            age_d['60 - 74'] += count_list[i]\n",
    "        elif age_list[i] >= 75 and age_list[i] < 90:\n",
    "            age_d['75 - 89'] += count_list[i]\n",
    "        elif age_list[i] >= 90 and age_list[i] < 106:\n",
    "            age_d['90 - 105'] += count_list[i]\n",
    "    return age_d"
   ]
  },
  {
   "cell_type": "code",
   "execution_count": 385,
   "metadata": {
    "collapsed": false
   },
   "outputs": [],
   "source": [
    "victim_d = create_dictionary(victim_age)"
   ]
  },
  {
   "cell_type": "code",
   "execution_count": 386,
   "metadata": {
    "collapsed": false
   },
   "outputs": [
    {
     "data": {
      "text/plain": [
       "{'0 - 14': 34848,\n",
       " '15 - 29': 281998,\n",
       " '30 - 44': 187196,\n",
       " '45 - 59': 79323,\n",
       " '60 - 74': 31117,\n",
       " '75 - 89': 12624,\n",
       " '90 - 105': 10374,\n",
       " 'Unknown': 0}"
      ]
     },
     "execution_count": 386,
     "metadata": {},
     "output_type": "execute_result"
    }
   ],
   "source": [
    "victim_d"
   ]
  },
  {
   "cell_type": "code",
   "execution_count": 383,
   "metadata": {
    "collapsed": false
   },
   "outputs": [],
   "source": [
    "perp_d = create_dictionary(perpetrator_age)"
   ]
  },
  {
   "cell_type": "code",
   "execution_count": 384,
   "metadata": {
    "collapsed": false
   },
   "outputs": [
    {
     "data": {
      "text/plain": [
       "{'0 - 14': 221235,\n",
       " '15 - 29': 233508,\n",
       " '30 - 44': 124325,\n",
       " '45 - 59': 43809,\n",
       " '60 - 74': 12243,\n",
       " '75 - 89': 3068,\n",
       " '90 - 105': 266,\n",
       " 'Unknown': 216328}"
      ]
     },
     "execution_count": 384,
     "metadata": {},
     "output_type": "execute_result"
    }
   ],
   "source": [
    "perp_d"
   ]
  },
  {
   "cell_type": "code",
   "execution_count": 288,
   "metadata": {
    "collapsed": true
   },
   "outputs": [],
   "source": [
    "def create_percents(dictionary):\n",
    "    percent_d = {'Unknown': 0, '1 - 14': 0, '15 - 29': 0, '30 - 44': 0, '45 - 59': 0, '60 - 74': 0, '75 - 89': 0, '90 - 105': 0}\n",
    "    total = sum(list(dictionary.values()))\n",
    "    for key in list(dictionary.keys()):\n",
    "        percent = (dictionary[key] / total) * 100\n",
    "        percent_d[key] = float(\"{0:.2f}\".format(percent))\n",
    "    return percent_d"
   ]
  },
  {
   "cell_type": "code",
   "execution_count": 292,
   "metadata": {
    "collapsed": false
   },
   "outputs": [],
   "source": [
    "victim_p = create_percents(victim_d)"
   ]
  },
  {
   "cell_type": "code",
   "execution_count": 293,
   "metadata": {
    "collapsed": false
   },
   "outputs": [],
   "source": [
    "perp_p = create_percents(perp_d)"
   ]
  },
  {
   "cell_type": "code",
   "execution_count": 388,
   "metadata": {
    "collapsed": false
   },
   "outputs": [],
   "source": [
    "age_df = pd.DataFrame([victim_d, perp_d], index=['Victim Age', 'Perpetrator Age'])"
   ]
  },
  {
   "cell_type": "code",
   "execution_count": 389,
   "metadata": {
    "collapsed": false
   },
   "outputs": [
    {
     "data": {
      "text/html": [
       "<div>\n",
       "<style scoped>\n",
       "    .dataframe tbody tr th:only-of-type {\n",
       "        vertical-align: middle;\n",
       "    }\n",
       "\n",
       "    .dataframe tbody tr th {\n",
       "        vertical-align: top;\n",
       "    }\n",
       "\n",
       "    .dataframe thead th {\n",
       "        text-align: right;\n",
       "    }\n",
       "</style>\n",
       "<table border=\"1\" class=\"dataframe\">\n",
       "  <thead>\n",
       "    <tr style=\"text-align: right;\">\n",
       "      <th></th>\n",
       "      <th>0 - 14</th>\n",
       "      <th>15 - 29</th>\n",
       "      <th>30 - 44</th>\n",
       "      <th>45 - 59</th>\n",
       "      <th>60 - 74</th>\n",
       "      <th>75 - 89</th>\n",
       "      <th>90 - 105</th>\n",
       "      <th>Unknown</th>\n",
       "    </tr>\n",
       "  </thead>\n",
       "  <tbody>\n",
       "    <tr>\n",
       "      <th>Victim Age</th>\n",
       "      <td>34848</td>\n",
       "      <td>281998</td>\n",
       "      <td>187196</td>\n",
       "      <td>79323</td>\n",
       "      <td>31117</td>\n",
       "      <td>12624</td>\n",
       "      <td>10374</td>\n",
       "      <td>0</td>\n",
       "    </tr>\n",
       "    <tr>\n",
       "      <th>Perpetrator Age</th>\n",
       "      <td>221235</td>\n",
       "      <td>233508</td>\n",
       "      <td>124325</td>\n",
       "      <td>43809</td>\n",
       "      <td>12243</td>\n",
       "      <td>3068</td>\n",
       "      <td>266</td>\n",
       "      <td>216328</td>\n",
       "    </tr>\n",
       "  </tbody>\n",
       "</table>\n",
       "</div>"
      ],
      "text/plain": [
       "                 0 - 14  15 - 29  30 - 44  45 - 59  60 - 74  75 - 89  \\\n",
       "Victim Age        34848   281998   187196    79323    31117    12624   \n",
       "Perpetrator Age  221235   233508   124325    43809    12243     3068   \n",
       "\n",
       "                 90 - 105  Unknown  \n",
       "Victim Age          10374        0  \n",
       "Perpetrator Age       266   216328  "
      ]
     },
     "execution_count": 389,
     "metadata": {},
     "output_type": "execute_result"
    }
   ],
   "source": [
    "age_df"
   ]
  },
  {
   "cell_type": "code",
   "execution_count": 348,
   "metadata": {
    "collapsed": false
   },
   "outputs": [
    {
     "data": {
      "text/plain": [
       "[4.14, 44.24, 29.36, 12.44, 4.88, 1.98, 1.63, 1.32]"
      ]
     },
     "execution_count": 348,
     "metadata": {},
     "output_type": "execute_result"
    }
   ],
   "source": [
    "list(age_df.values[1])"
   ]
  },
  {
   "cell_type": "code",
   "execution_count": 394,
   "metadata": {
    "collapsed": false
   },
   "outputs": [
    {
     "data": {
      "image/png": "[encoded data removed]",
      "text/plain": [
       "<matplotlib.figure.Figure at 0x11b567550>"
      ]
     },
     "metadata": {},
     "output_type": "display_data"
    }
   ],
   "source": [
    "groups = 8\n",
    "index = np.arange(groups) \n",
    "bar_width = 0.35\n",
    "fig, ax = plt.subplots(figsize=(20, 15))\n",
    "victim = ax.bar(index, list(age_df.values[0]), bar_width,\n",
    "                color='#d96459',\n",
    "                label='Victim')\n",
    "perpetrator = ax.bar(index + bar_width, list(age_df.values[1]), bar_width,\n",
    "                color='#96ceb4',\n",
    "                label='Perpetrator')\n",
    "ax.set_xlabel('Age Ranges')\n",
    "ax.set_ylabel('Number of People')\n",
    "ax.set_title('Age Ranges')\n",
    "ax.set_xticks(index + bar_width / 2)\n",
    "ax.set_xticklabels(('0 - 14', '15 - 29', '30 - 44', '45 - 59', '60 - 74', '75 - 89', '90 - 105', 'Unknown'))\n",
    "ax.legend()\n",
    "plt.show()"
   ]
  },
  {
   "cell_type": "code",
   "execution_count": 261,
   "metadata": {
    "collapsed": false
   },
   "outputs": [
    {
     "data": {
      "text/plain": [
       "638454"
      ]
     },
     "execution_count": 261,
     "metadata": {},
     "output_type": "execute_result"
    }
   ],
   "source": [
    "4907 + 233508 + 124325 + 43809 + 12243 + 3068 + 266 + 216328"
   ]
  },
  {
   "cell_type": "code",
   "execution_count": 268,
   "metadata": {
    "collapsed": false
   },
   "outputs": [
    {
     "data": {
      "text/plain": [
       "2.9513239155356685"
      ]
     },
     "execution_count": 268,
     "metadata": {},
     "output_type": "execute_result"
    }
   ],
   "source": [
    "295.13239155356683 / 100"
   ]
  },
  {
   "cell_type": "code",
   "execution_count": 270,
   "metadata": {
    "collapsed": false
   },
   "outputs": [
    {
     "data": {
      "text/plain": [
       "638454.0000000001"
      ]
     },
     "execution_count": 270,
     "metadata": {},
     "output_type": "execute_result"
    }
   ],
   "source": [
    "2.9513239155356685 * 216328"
   ]
  },
  {
   "cell_type": "code",
   "execution_count": 273,
   "metadata": {
    "collapsed": false
   },
   "outputs": [
    {
     "data": {
      "text/plain": [
       "0.33883098860685346"
      ]
     },
     "execution_count": 273,
     "metadata": {},
     "output_type": "execute_result"
    }
   ],
   "source": [
    "216328 / 638454"
   ]
  },
  {
   "cell_type": "code",
   "execution_count": null,
   "metadata": {
    "collapsed": true
   },
   "outputs": [],
   "source": []
  }
 ],
 "metadata": {
  "kernelspec": {
   "display_name": "Python 3",
   "language": "python",
   "name": "python3"
  },
  "language_info": {
   "codemirror_mode": {
    "name": "ipython",
    "version": 3
   },
   "file_extension": ".py",
   "mimetype": "text/x-python",
   "name": "python",
   "nbconvert_exporter": "python",
   "pygments_lexer": "ipython3",
   "version": "3.6.1"
  }
 },
 "nbformat": 4,
 "nbformat_minor": 2
}
