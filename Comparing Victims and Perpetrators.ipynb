{
 "cells": [
  {
   "cell_type": "code",
   "execution_count": 3,
   "metadata": {
    "collapsed": true
   },
   "outputs": [],
   "source": [
    "import numpy as np\n",
    "import pandas as pd\n",
    "import matplotlib.pyplot as plt \n",
    "%matplotlib inline "
   ]
  },
  {
   "cell_type": "code",
   "execution_count": 4,
   "metadata": {
    "collapsed": true
   },
   "outputs": [],
   "source": [
    "homicides = pd.read_csv('database.csv', sep=',', error_bad_lines=False, index_col=False, dtype='unicode', usecols=['Victim Sex','Victim Age', 'Victim Race', 'Perpetrator Sex', 'Perpetrator Age', 'Perpetrator Race', 'Relationship'])"
   ]
  },
  {
   "cell_type": "code",
   "execution_count": 5,
   "metadata": {
    "collapsed": false
   },
   "outputs": [
    {
     "data": {
      "text/plain": [
       "(638454, 7)"
      ]
     },
     "execution_count": 5,
     "metadata": {},
     "output_type": "execute_result"
    }
   ],
   "source": [
    "homicides.shape"
   ]
  },
  {
   "cell_type": "code",
   "execution_count": 491,
   "metadata": {
    "collapsed": false
   },
   "outputs": [
    {
     "data": {
      "text/plain": [
       "Victim Sex          object\n",
       "Victim Age          object\n",
       "Victim Race         object\n",
       "Perpetrator Sex     object\n",
       "Perpetrator Age     object\n",
       "Perpetrator Race    object\n",
       "Relationship        object\n",
       "dtype: object"
      ]
     },
     "execution_count": 491,
     "metadata": {},
     "output_type": "execute_result"
    }
   ],
   "source": [
    "homicides.dtypes"
   ]
  },
  {
   "cell_type": "code",
   "execution_count": 492,
   "metadata": {
    "collapsed": true
   },
   "outputs": [],
   "source": [
    "homicides['Perpetrator Age'] = homicides['Perpetrator Age'].replace(' ', '0')"
   ]
  },
  {
   "cell_type": "code",
   "execution_count": 493,
   "metadata": {
    "collapsed": true
   },
   "outputs": [],
   "source": [
    "homicides['Perpetrator Age'] = homicides['Perpetrator Age'].astype(int)\n",
    "homicides['Victim Age'] = homicides['Victim Age'].astype(int)"
   ]
  },
  {
   "cell_type": "code",
   "execution_count": 499,
   "metadata": {
    "collapsed": true
   },
   "outputs": [],
   "source": [
    "homicides['Victim Age'] = homicides['Victim Age'].replace(998, 98)"
   ]
  },
  {
   "cell_type": "code",
   "execution_count": 496,
   "metadata": {
    "collapsed": false
   },
   "outputs": [
    {
     "data": {
      "text/plain": [
       "Victim Sex          object\n",
       "Victim Age           int64\n",
       "Victim Race         object\n",
       "Perpetrator Sex     object\n",
       "Perpetrator Age      int64\n",
       "Perpetrator Race    object\n",
       "Relationship        object\n",
       "dtype: object"
      ]
     },
     "execution_count": 496,
     "metadata": {},
     "output_type": "execute_result"
    }
   ],
   "source": [
    "homicides.dtypes"
   ]
  },
  {
   "cell_type": "code",
   "execution_count": 122,
   "metadata": {
    "collapsed": true
   },
   "outputs": [],
   "source": [
    "original_headers = list(homicides)\n",
    "headers = []\n",
    "\n",
    "for item in original_headers:\n",
    "    if ' ' in item:\n",
    "        headers.append(item.replace(' ', '_').lower())\n",
    "    else:\n",
    "        headers.append(item.lower())"
   ]
  },
  {
   "cell_type": "code",
   "execution_count": 123,
   "metadata": {
    "collapsed": false
   },
   "outputs": [],
   "source": [
    "for i in range(len(headers)):\n",
    "    vars()[headers[i]] = homicides[original_headers[i]].value_counts()"
   ]
  },
  {
   "cell_type": "code",
   "execution_count": 519,
   "metadata": {
    "collapsed": false
   },
   "outputs": [
    {
     "name": "stdout",
     "output_type": "stream",
     "text": [
      "Victim Sex: \n",
      "Male       494125\n",
      "Female     143345\n",
      "Unknown       984\n",
      "Name: Victim Sex, dtype: int64 \n",
      "\n",
      "Perpetrator Sex: \n",
      "Male       399541\n",
      "Unknown    190365\n",
      "Female      48548\n",
      "Name: Perpetrator Sex, dtype: int64\n"
     ]
    }
   ],
   "source": [
    "print('Victim Sex: \\n{} \\n\\nPerpetrator Sex: \\n{}'.format(victim_sex, perpetrator_sex))"
   ]
  },
  {
   "cell_type": "code",
   "execution_count": 509,
   "metadata": {
    "collapsed": false
   },
   "outputs": [],
   "source": [
    "perpetrator_sex.index[0]\n",
    "data = [{'Male': perpetrator_sex.values[0], 'Female': perpetrator_sex.values[2], 'Unknown': perpetrator_sex.values[1]},\n",
    "        {'Male': victim_sex.values[0], 'Female': victim_sex.values[1], 'Unknown': victim_sex.values[2]}]\n",
    "sex_count = pd.DataFrame(data, index=['Prepetrator', 'Victim'])"
   ]
  },
  {
   "cell_type": "code",
   "execution_count": 510,
   "metadata": {
    "collapsed": false
   },
   "outputs": [
    {
     "data": {
      "text/html": [
       "<div>\n",
       "<style scoped>\n",
       "    .dataframe tbody tr th:only-of-type {\n",
       "        vertical-align: middle;\n",
       "    }\n",
       "\n",
       "    .dataframe tbody tr th {\n",
       "        vertical-align: top;\n",
       "    }\n",
       "\n",
       "    .dataframe thead th {\n",
       "        text-align: right;\n",
       "    }\n",
       "</style>\n",
       "<table border=\"1\" class=\"dataframe\">\n",
       "  <thead>\n",
       "    <tr style=\"text-align: right;\">\n",
       "      <th></th>\n",
       "      <th>Female</th>\n",
       "      <th>Male</th>\n",
       "      <th>Unknown</th>\n",
       "    </tr>\n",
       "  </thead>\n",
       "  <tbody>\n",
       "    <tr>\n",
       "      <th>Prepetrator</th>\n",
       "      <td>48548</td>\n",
       "      <td>399541</td>\n",
       "      <td>190365</td>\n",
       "    </tr>\n",
       "    <tr>\n",
       "      <th>Victim</th>\n",
       "      <td>143345</td>\n",
       "      <td>494125</td>\n",
       "      <td>984</td>\n",
       "    </tr>\n",
       "  </tbody>\n",
       "</table>\n",
       "</div>"
      ],
      "text/plain": [
       "             Female    Male  Unknown\n",
       "Prepetrator   48548  399541   190365\n",
       "Victim       143345  494125      984"
      ]
     },
     "execution_count": 510,
     "metadata": {},
     "output_type": "execute_result"
    }
   ],
   "source": [
    "sex_count"
   ]
  },
  {
   "cell_type": "code",
   "execution_count": 153,
   "metadata": {
    "collapsed": false
   },
   "outputs": [
    {
     "data": {
      "image/png": "[encoded data removed]",
      "text/plain": [
       "<matplotlib.figure.Figure at 0x11b722b38>"
      ]
     },
     "metadata": {},
     "output_type": "display_data"
    }
   ],
   "source": [
    "colors = ['#d96459', '#f2ae72', '#96ceb4']\n",
    "ax = sex_count.plot.barh(figsize=[16,6], title=\"Sex\", color=colors, stacked=True)\n",
    "ax.set_xlabel(\"Number of People\", fontsize=20)\n",
    "ax.title.set_size(fontsize=24)\n",
    "ax.tick_params(axis='both', which='major', labelsize=14)"
   ]
  },
  {
   "cell_type": "code",
   "execution_count": 518,
   "metadata": {
    "collapsed": false
   },
   "outputs": [
    {
     "name": "stdout",
     "output_type": "stream",
     "text": [
      "Victim Race: \n",
      "White                            317422\n",
      "Black                            299899\n",
      "Asian/Pacific Islander             9890\n",
      "Unknown                            6676\n",
      "Native American/Alaska Native      4567\n",
      "Name: Victim Race, dtype: int64 \n",
      "\n",
      "Perpetrator Race: \n",
      "White                            218243\n",
      "Black                            214516\n",
      "Unknown                          196047\n",
      "Asian/Pacific Islander             6046\n",
      "Native American/Alaska Native      3602\n",
      "Name: Perpetrator Race, dtype: int64\n"
     ]
    }
   ],
   "source": [
    "print('Victim Race: \\n{} \\n\\nPerpetrator Race: \\n{}'.format(victim_race, perpetrator_race))"
   ]
  },
  {
   "cell_type": "code",
   "execution_count": 145,
   "metadata": {
    "collapsed": false
   },
   "outputs": [],
   "source": [
    "data = [{'White': perpetrator_race.values[0], 'Black': perpetrator_race.values[1], 'Asian/Pacific Islander': perpetrator_race.values[3], 'Unknown': perpetrator_race.values[2], 'Native American/Alaska Native': perpetrator_race.values[4]},\n",
    "        {'White': victim_race.values[0], 'Black': victim_sex.values[1], 'Asian/Pacific Islander': victim_race.values[2], 'Unknown': victim_race.values[3], 'Native American/Alaska Native': victim_race.values[4]}]"
   ]
  },
  {
   "cell_type": "code",
   "execution_count": 146,
   "metadata": {
    "collapsed": false
   },
   "outputs": [],
   "source": [
    "race_count = pd.DataFrame(data, index=['Prepetrator', 'Victim'])"
   ]
  },
  {
   "cell_type": "code",
   "execution_count": 152,
   "metadata": {
    "collapsed": false
   },
   "outputs": [
    {
     "data": {
      "image/png": "[encoded data removed]",
      "text/plain": [
       "<matplotlib.figure.Figure at 0x114bcdef0>"
      ]
     },
     "metadata": {},
     "output_type": "display_data"
    }
   ],
   "source": [
    "colors = ['#454140', '#d96459', '#f2ae72', '#ffeead', '#96ceb4']\n",
    "ax = race_count.plot.barh(figsize=[16,6], title=\"Race\", color=colors, stacked=True)\n",
    "ax.set_xlabel(\"Number of People\", fontsize=20)\n",
    "ax.title.set_size(fontsize=24)\n",
    "ax.tick_params(axis='both', which='major', labelsize=14)"
   ]
  },
  {
   "cell_type": "code",
   "execution_count": 516,
   "metadata": {
    "collapsed": false
   },
   "outputs": [],
   "source": [
    "age_list = list(homicides['Victim Age'].value_counts().index)"
   ]
  },
  {
   "cell_type": "code",
   "execution_count": 382,
   "metadata": {
    "collapsed": false
   },
   "outputs": [],
   "source": [
    "def create_dictionary(data):\n",
    "    age_d = {'Unknown': 0, '0 - 14': 0, '15 - 29': 0, '30 - 44': 0, '45 - 59': 0, '60 - 74': 0, '75 - 89': 0, '90 - 105': 0}\n",
    "    if data == 'Victim':\n",
    "        vict\n",
    "        index_list = [x.replace(x, '-1') if x in filter_out else x for x in list(data.index)]\n",
    "    else:\n",
    "        index_list = list(data.index)\n",
    "    age_list = list(map(int, index_list))\n",
    "    count_list = list(data.values)\n",
    "    for i in range(len(data)):\n",
    "        if age_list[i] == -1:\n",
    "            age_d['Unknown'] += count_list[i]\n",
    "        if age_list[i] < 15:\n",
    "            age_d['0 - 14'] += count_list[i]\n",
    "        elif age_list[i] >= 15 and age_list[i] < 30:\n",
    "            age_d['15 - 29'] += count_list[i]\n",
    "        elif age_list[i] >= 30 and age_list[i] < 45:\n",
    "            age_d['30 - 44'] += count_list[i]\n",
    "        elif age_list[i] >= 45 and age_list[i] < 60:\n",
    "            age_d['45 - 59'] += count_list[i]\n",
    "        elif age_list[i] >= 60 and age_list[i] < 75:\n",
    "            age_d['60 - 74'] += count_list[i]\n",
    "        elif age_list[i] >= 75 and age_list[i] < 90:\n",
    "            age_d['75 - 89'] += count_list[i]\n",
    "        elif age_list[i] >= 90 and age_list[i] < 106:\n",
    "            age_d['90 - 105'] += count_list[i]\n",
    "    return age_d"
   ]
  },
  {
   "cell_type": "code",
   "execution_count": 385,
   "metadata": {
    "collapsed": false
   },
   "outputs": [],
   "source": [
    "victim_d = create_dictionary(victim_age)"
   ]
  },
  {
   "cell_type": "code",
   "execution_count": 517,
   "metadata": {
    "collapsed": false
   },
   "outputs": [
    {
     "name": "stdout",
     "output_type": "stream",
     "text": [
      "Victim: \n",
      "{'Unknown': 0, '0 - 14': 34848, '15 - 29': 281998, '30 - 44': 187196, '45 - 59': 79323, '60 - 74': 31117, '75 - 89': 12624, '90 - 105': 10374} \n",
      "\n",
      "Perpetrator: \n",
      "{'Unknown': 216328, '0 - 14': 221235, '15 - 29': 233508, '30 - 44': 124325, '45 - 59': 43809, '60 - 74': 12243, '75 - 89': 3068, '90 - 105': 266}\n"
     ]
    }
   ],
   "source": [
    "print('Victim: \\n{} \\n\\nPerpetrator: \\n{}'.format(victim_d, perp_d))"
   ]
  },
  {
   "cell_type": "code",
   "execution_count": 383,
   "metadata": {
    "collapsed": false
   },
   "outputs": [],
   "source": [
    "perp_d = create_dictionary(perpetrator_age)"
   ]
  },
  {
   "cell_type": "code",
   "execution_count": 384,
   "metadata": {
    "collapsed": false
   },
   "outputs": [
    {
     "data": {
      "text/plain": [
       "{'0 - 14': 221235,\n",
       " '15 - 29': 233508,\n",
       " '30 - 44': 124325,\n",
       " '45 - 59': 43809,\n",
       " '60 - 74': 12243,\n",
       " '75 - 89': 3068,\n",
       " '90 - 105': 266,\n",
       " 'Unknown': 216328}"
      ]
     },
     "execution_count": 384,
     "metadata": {},
     "output_type": "execute_result"
    }
   ],
   "source": [
    "perp_d"
   ]
  },
  {
   "cell_type": "code",
   "execution_count": 388,
   "metadata": {
    "collapsed": false
   },
   "outputs": [],
   "source": [
    "age_df = pd.DataFrame([victim_d, perp_d], index=['Victim Age', 'Perpetrator Age'])"
   ]
  },
  {
   "cell_type": "code",
   "execution_count": 389,
   "metadata": {
    "collapsed": false
   },
   "outputs": [
    {
     "data": {
      "text/html": [
       "<div>\n",
       "<style scoped>\n",
       "    .dataframe tbody tr th:only-of-type {\n",
       "        vertical-align: middle;\n",
       "    }\n",
       "\n",
       "    .dataframe tbody tr th {\n",
       "        vertical-align: top;\n",
       "    }\n",
       "\n",
       "    .dataframe thead th {\n",
       "        text-align: right;\n",
       "    }\n",
       "</style>\n",
       "<table border=\"1\" class=\"dataframe\">\n",
       "  <thead>\n",
       "    <tr style=\"text-align: right;\">\n",
       "      <th></th>\n",
       "      <th>0 - 14</th>\n",
       "      <th>15 - 29</th>\n",
       "      <th>30 - 44</th>\n",
       "      <th>45 - 59</th>\n",
       "      <th>60 - 74</th>\n",
       "      <th>75 - 89</th>\n",
       "      <th>90 - 105</th>\n",
       "      <th>Unknown</th>\n",
       "    </tr>\n",
       "  </thead>\n",
       "  <tbody>\n",
       "    <tr>\n",
       "      <th>Victim Age</th>\n",
       "      <td>34848</td>\n",
       "      <td>281998</td>\n",
       "      <td>187196</td>\n",
       "      <td>79323</td>\n",
       "      <td>31117</td>\n",
       "      <td>12624</td>\n",
       "      <td>10374</td>\n",
       "      <td>0</td>\n",
       "    </tr>\n",
       "    <tr>\n",
       "      <th>Perpetrator Age</th>\n",
       "      <td>221235</td>\n",
       "      <td>233508</td>\n",
       "      <td>124325</td>\n",
       "      <td>43809</td>\n",
       "      <td>12243</td>\n",
       "      <td>3068</td>\n",
       "      <td>266</td>\n",
       "      <td>216328</td>\n",
       "    </tr>\n",
       "  </tbody>\n",
       "</table>\n",
       "</div>"
      ],
      "text/plain": [
       "                 0 - 14  15 - 29  30 - 44  45 - 59  60 - 74  75 - 89  \\\n",
       "Victim Age        34848   281998   187196    79323    31117    12624   \n",
       "Perpetrator Age  221235   233508   124325    43809    12243     3068   \n",
       "\n",
       "                 90 - 105  Unknown  \n",
       "Victim Age          10374        0  \n",
       "Perpetrator Age       266   216328  "
      ]
     },
     "execution_count": 389,
     "metadata": {},
     "output_type": "execute_result"
    }
   ],
   "source": [
    "age_df"
   ]
  },
  {
   "cell_type": "code",
   "execution_count": 348,
   "metadata": {
    "collapsed": false
   },
   "outputs": [
    {
     "data": {
      "text/plain": [
       "[4.14, 44.24, 29.36, 12.44, 4.88, 1.98, 1.63, 1.32]"
      ]
     },
     "execution_count": 348,
     "metadata": {},
     "output_type": "execute_result"
    }
   ],
   "source": [
    "list(age_df.values[1])"
   ]
  },
  {
   "cell_type": "code",
   "execution_count": 399,
   "metadata": {
    "collapsed": false
   },
   "outputs": [
    {
     "data": {
      "image/png": "[encoded data removed]",
      "text/plain": [
       "<matplotlib.figure.Figure at 0x1124a8ac8>"
      ]
     },
     "metadata": {},
     "output_type": "display_data"
    }
   ],
   "source": [
    "groups = 8\n",
    "index = np.arange(groups) \n",
    "bar_width = 0.35\n",
    "fig, ax = plt.subplots(figsize=(20, 15))\n",
    "victim = ax.bar(index, list(age_df.values[0]), bar_width,\n",
    "                color='#d96459',\n",
    "                label='Victim')\n",
    "perpetrator = ax.bar(index + bar_width, list(age_df.values[1]), bar_width,\n",
    "                color='#96ceb4',\n",
    "                label='Perpetrator')\n",
    "ax.set_xlabel('Age Ranges in Years', fontsize=20)\n",
    "ax.set_ylabel('Number of People', fontsize=20)\n",
    "ax.set_title('Age Ranges')\n",
    "ax.title.set_size(fontsize=24)\n",
    "ax.set_xticks(index + bar_width / 2)\n",
    "ax.set_xticklabels(('0 - 14', '15 - 29', '30 - 44', '45 - 59', '60 - 74', '75 - 89', '90 - 105', 'Unknown'))\n",
    "ax.tick_params(axis='both', which='major', labelsize=14)\n",
    "ax.legend(prop={'size': 20})\n",
    "plt.show()"
   ]
  },
  {
   "cell_type": "code",
   "execution_count": null,
   "metadata": {
    "collapsed": true
   },
   "outputs": [],
   "source": [
    "spread = sorted(age_list)\n",
    "center = np.ones(25) * 50\n",
    "flier_high = np.random.rand(10) * 100 + 100\n",
    "flier_low = np.random.rand(10) * -100\n",
    "data = np.concatenate((spread, center, flier_high, flier_low), 0)"
   ]
  },
  {
   "cell_type": "code",
   "execution_count": 475,
   "metadata": {
    "collapsed": false
   },
   "outputs": [],
   "source": [
    "sorted_age = sorted(age_list)\n",
    "median_age = sorted_age[int(np.median(sorted_age))]\n",
    "q1 = int(np.median(sorted_age[:sorted_age.index(median_age) + 1]))\n",
    "q2 = int(np.median(sorted_age[sorted_age.index(median_age):]))"
   ]
  },
  {
   "cell_type": "code",
   "execution_count": 478,
   "metadata": {
    "collapsed": false
   },
   "outputs": [
    {
     "data": {
      "text/plain": [
       "25"
      ]
     },
     "execution_count": 478,
     "metadata": {},
     "output_type": "execute_result"
    }
   ],
   "source": [
    "int(np.median(sorted_age[:sorted_age.index(median_age) + 1]))"
   ]
  },
  {
   "cell_type": "code",
   "execution_count": 400,
   "metadata": {
    "collapsed": false
   },
   "outputs": [
    {
     "data": {
      "text/plain": [
       "Unknown                 273013\n",
       "Acquaintance            126018\n",
       "Stranger                 96593\n",
       "Wife                     23187\n",
       "Friend                   21945\n",
       "Girlfriend               16465\n",
       "Son                       9904\n",
       "Family                    9535\n",
       "Husband                   8803\n",
       "Daughter                  7539\n",
       "Boyfriend                 7302\n",
       "Neighbor                  6294\n",
       "Brother                   5514\n",
       "Father                    4361\n",
       "Mother                    4248\n",
       "In-Law                    3637\n",
       "Common-Law Wife           2477\n",
       "Ex-Wife                   1973\n",
       "Common-Law Husband        1954\n",
       "Boyfriend/Girlfriend      1383\n",
       "Stepfather                1360\n",
       "Sister                    1292\n",
       "Stepson                   1170\n",
       "Stepdaughter               754\n",
       "Ex-Husband                 629\n",
       "Employer                   509\n",
       "Employee                   384\n",
       "Stepmother                 211\n",
       "Name: Relationship, dtype: int64"
      ]
     },
     "execution_count": 400,
     "metadata": {},
     "output_type": "execute_result"
    }
   ],
   "source": [
    "relationship"
   ]
  },
  {
   "cell_type": "code",
   "execution_count": 437,
   "metadata": {
    "collapsed": false
   },
   "outputs": [],
   "source": [
    "r_d = {'Spouse/SO': 0,\n",
    "                  'Friend': 0,\n",
    "                  'Parent': 0,\n",
    "                  'Child': 0,\n",
    "                  'Ex-Spouse': 0,\n",
    "                  'Family': 0,\n",
    "                  'Neighbor': 0,\n",
    "                  'Work': 0,\n",
    "                  'Unknown': 0,\n",
    "                  'Stranger': 0}\n",
    "so = ['Wife', 'Girlfriend', 'Husband', 'Boyfriend', 'Common-Law Wife', 'Common-Law Husband', 'Boyfriend/Girlfriend']\n",
    "friend = ['Acquaintance', 'Friend']\n",
    "parent = ['Father', 'Mother', 'Stepfather', 'Stepmother', 'In-Law']\n",
    "child = ['Son', 'Daughter', 'Stepson', 'Stepdaughter']\n",
    "ex = ['Ex-Husband', 'Ex-Wife']\n",
    "family = ['Family', 'Sister', 'Brother']\n",
    "work = ['Employer', 'Employee']"
   ]
  },
  {
   "cell_type": "code",
   "execution_count": 520,
   "metadata": {
    "collapsed": false
   },
   "outputs": [],
   "source": [
    "relationship_list = list(relationship.index)\n",
    "relationship_count = list(relationship.values)\n",
    "for i in range(len(relationship_list)):\n",
    "    if relationship_list[i] in so:\n",
    "        r_d['Spouse/SO'] += relationship_count[i]\n",
    "    if relationship_list[i] in friend:\n",
    "        r_d['Friend'] += relationship_count[i]\n",
    "    if relationship_list[i] in parent:\n",
    "        r_d['Parent'] += relationship_count[i]\n",
    "    if relationship_list[i] in child:\n",
    "        r_d['Child'] += relationship_count[i]\n",
    "    if relationship_list[i] in ex:\n",
    "        r_d['Ex-Spouse'] += relationship_count[i]\n",
    "    if relationship_list[i] in family:\n",
    "        r_d['Family'] += relationship_count[i]\n",
    "    if relationship_list[i] in work:\n",
    "        r_d['Work'] += relationship_count[i]\n",
    "    if relationship_list[i] == 'Unknown':\n",
    "        r_d['Unknown'] += relationship_count[i]\n",
    "    if relationship_list[i] == 'Stranger':\n",
    "        r_d['Stranger'] += relationship_count[i]\n",
    "    if relationship_list[i] == 'Neighbor':\n",
    "        r_d['Neighbor'] += relationship_count[i]"
   ]
  },
  {
   "cell_type": "code",
   "execution_count": 439,
   "metadata": {
    "collapsed": false
   },
   "outputs": [
    {
     "data": {
      "text/plain": [
       "{'Child': 19367,\n",
       " 'Ex-Spouse': 2602,\n",
       " 'Family': 16341,\n",
       " 'Friend': 147963,\n",
       " 'Neighbor': 6294,\n",
       " 'Parent': 13817,\n",
       " 'Spouse/SO': 61571,\n",
       " 'Stranger': 96593,\n",
       " 'Unknown': 273013,\n",
       " 'Work': 893}"
      ]
     },
     "execution_count": 439,
     "metadata": {},
     "output_type": "execute_result"
    }
   ],
   "source": [
    "r_d"
   ]
  },
  {
   "cell_type": "code",
   "execution_count": 440,
   "metadata": {
    "collapsed": false
   },
   "outputs": [
    {
     "data": {
      "text/plain": [
       "True"
      ]
     },
     "execution_count": 440,
     "metadata": {},
     "output_type": "execute_result"
    }
   ],
   "source": [
    "sum(list(r_d.values())) == relationship.sum()"
   ]
  },
  {
   "cell_type": "code",
   "execution_count": 453,
   "metadata": {
    "collapsed": false
   },
   "outputs": [
    {
     "data": {
      "image/png": "[encoded data removed]",
      "text/plain": [
       "<matplotlib.figure.Figure at 0x111e84828>"
      ]
     },
     "metadata": {},
     "output_type": "display_data"
    }
   ],
   "source": [
    "colors = ['#454140', '#d96459', '#f2ae72', '#ffeead', '#96ceb4', '#454140', '#d96459', '#f2ae72', '#ffeead', '#96ceb4']\n",
    "groups = 10\n",
    "bar_width = 0.35\n",
    "index = np.arange(groups) \n",
    "fig, ax = plt.subplots(figsize=(20, 15))\n",
    "ax.bar(index, list(r_d.values()), bar_width,\n",
    "                color=colors)\n",
    "ax.set_xlabel('Relationship', fontsize=20)\n",
    "ax.set_ylabel('Number of People', fontsize=20)\n",
    "ax.set_title('Relationship of Victim to Perpetrator')\n",
    "ax.title.set_size(fontsize=24)\n",
    "ax.set_xticks(index)\n",
    "ax.set_xticklabels(list(r_d.keys()))\n",
    "ax.tick_params(axis='both', which='major', labelsize=14)\n",
    "plt.show()"
   ]
  },
  {
   "cell_type": "code",
   "execution_count": null,
   "metadata": {
    "collapsed": true
   },
   "outputs": [],
   "source": []
  }
 ],
 "metadata": {
  "kernelspec": {
   "display_name": "Python 3",
   "language": "python",
   "name": "python3"
  },
  "language_info": {
   "codemirror_mode": {
    "name": "ipython",
    "version": 3
   },
   "file_extension": ".py",
   "mimetype": "text/x-python",
   "name": "python",
   "nbconvert_exporter": "python",
   "pygments_lexer": "ipython3",
   "version": "3.6.1"
  }
 },
 "nbformat": 4,
 "nbformat_minor": 2
}
